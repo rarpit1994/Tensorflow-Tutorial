{
  "nbformat": 4,
  "nbformat_minor": 0,
  "metadata": {
    "colab": {
      "name": "TensorFlow Linear Classification.ipynb",
      "provenance": []
    },
    "kernelspec": {
      "name": "python3",
      "display_name": "Python 3"
    }
  },
  "cells": [
    {
      "cell_type": "code",
      "metadata": {
        "id": "nPzr2QDrNR4Z",
        "outputId": "c4a125e4-68b1-4215-8abe-c7cb975bbff6",
        "colab": {
          "base_uri": "https://localhost:8080/",
          "height": 34
        }
      },
      "source": [
        "import tensorflow as tf\n",
        "from tensorflow.keras.models import Sequential\n",
        "from tensorflow.keras.layers import Dense, Input\n",
        "\n",
        "print(tf.__version__)"
      ],
      "execution_count": 2,
      "outputs": [
        {
          "output_type": "stream",
          "text": [
            "2.3.0\n"
          ],
          "name": "stdout"
        }
      ]
    },
    {
      "cell_type": "code",
      "metadata": {
        "id": "Bcsi6KsX5liT"
      },
      "source": [
        "from sklearn.datasets import load_breast_cancer"
      ],
      "execution_count": 3,
      "outputs": []
    },
    {
      "cell_type": "code",
      "metadata": {
        "id": "3Jr2DvCm52M4"
      },
      "source": [
        "data = load_breast_cancer()"
      ],
      "execution_count": 4,
      "outputs": []
    },
    {
      "cell_type": "code",
      "metadata": {
        "id": "WSKt8DgW54nD",
        "outputId": "76a54f9f-fdad-43aa-d74c-7b9a512327de",
        "colab": {
          "base_uri": "https://localhost:8080/",
          "height": 34
        }
      },
      "source": [
        "type(data)"
      ],
      "execution_count": 5,
      "outputs": [
        {
          "output_type": "execute_result",
          "data": {
            "text/plain": [
              "sklearn.utils.Bunch"
            ]
          },
          "metadata": {
            "tags": []
          },
          "execution_count": 5
        }
      ]
    },
    {
      "cell_type": "code",
      "metadata": {
        "id": "fjSSnvBR6BLo",
        "outputId": "3d291593-f434-4e38-f6ed-a2376c49fa9d",
        "colab": {
          "base_uri": "https://localhost:8080/",
          "height": 34
        }
      },
      "source": [
        "data.keys()"
      ],
      "execution_count": 6,
      "outputs": [
        {
          "output_type": "execute_result",
          "data": {
            "text/plain": [
              "dict_keys(['data', 'target', 'target_names', 'DESCR', 'feature_names', 'filename'])"
            ]
          },
          "metadata": {
            "tags": []
          },
          "execution_count": 6
        }
      ]
    },
    {
      "cell_type": "code",
      "metadata": {
        "id": "XOFbejgv6DGd",
        "outputId": "6f956c13-93e1-4d17-871e-bfcf1d52e46a",
        "colab": {
          "base_uri": "https://localhost:8080/",
          "height": 34
        }
      },
      "source": [
        "data.data.shape"
      ],
      "execution_count": 7,
      "outputs": [
        {
          "output_type": "execute_result",
          "data": {
            "text/plain": [
              "(569, 30)"
            ]
          },
          "metadata": {
            "tags": []
          },
          "execution_count": 7
        }
      ]
    },
    {
      "cell_type": "code",
      "metadata": {
        "id": "KBWIzXr96Jay",
        "outputId": "622fe3de-4560-48bc-b755-abfaebb55793",
        "colab": {
          "base_uri": "https://localhost:8080/",
          "height": 459
        }
      },
      "source": [
        "data.target"
      ],
      "execution_count": 8,
      "outputs": [
        {
          "output_type": "execute_result",
          "data": {
            "text/plain": [
              "array([0, 0, 0, 0, 0, 0, 0, 0, 0, 0, 0, 0, 0, 0, 0, 0, 0, 0, 0, 1, 1, 1,\n",
              "       0, 0, 0, 0, 0, 0, 0, 0, 0, 0, 0, 0, 0, 0, 0, 1, 0, 0, 0, 0, 0, 0,\n",
              "       0, 0, 1, 0, 1, 1, 1, 1, 1, 0, 0, 1, 0, 0, 1, 1, 1, 1, 0, 1, 0, 0,\n",
              "       1, 1, 1, 1, 0, 1, 0, 0, 1, 0, 1, 0, 0, 1, 1, 1, 0, 0, 1, 0, 0, 0,\n",
              "       1, 1, 1, 0, 1, 1, 0, 0, 1, 1, 1, 0, 0, 1, 1, 1, 1, 0, 1, 1, 0, 1,\n",
              "       1, 1, 1, 1, 1, 1, 1, 0, 0, 0, 1, 0, 0, 1, 1, 1, 0, 0, 1, 0, 1, 0,\n",
              "       0, 1, 0, 0, 1, 1, 0, 1, 1, 0, 1, 1, 1, 1, 0, 1, 1, 1, 1, 1, 1, 1,\n",
              "       1, 1, 0, 1, 1, 1, 1, 0, 0, 1, 0, 1, 1, 0, 0, 1, 1, 0, 0, 1, 1, 1,\n",
              "       1, 0, 1, 1, 0, 0, 0, 1, 0, 1, 0, 1, 1, 1, 0, 1, 1, 0, 0, 1, 0, 0,\n",
              "       0, 0, 1, 0, 0, 0, 1, 0, 1, 0, 1, 1, 0, 1, 0, 0, 0, 0, 1, 1, 0, 0,\n",
              "       1, 1, 1, 0, 1, 1, 1, 1, 1, 0, 0, 1, 1, 0, 1, 1, 0, 0, 1, 0, 1, 1,\n",
              "       1, 1, 0, 1, 1, 1, 1, 1, 0, 1, 0, 0, 0, 0, 0, 0, 0, 0, 0, 0, 0, 0,\n",
              "       0, 0, 1, 1, 1, 1, 1, 1, 0, 1, 0, 1, 1, 0, 1, 1, 0, 1, 0, 0, 1, 1,\n",
              "       1, 1, 1, 1, 1, 1, 1, 1, 1, 1, 1, 0, 1, 1, 0, 1, 0, 1, 1, 1, 1, 1,\n",
              "       1, 1, 1, 1, 1, 1, 1, 1, 1, 0, 1, 1, 1, 0, 1, 0, 1, 1, 1, 1, 0, 0,\n",
              "       0, 1, 1, 1, 1, 0, 1, 0, 1, 0, 1, 1, 1, 0, 1, 1, 1, 1, 1, 1, 1, 0,\n",
              "       0, 0, 1, 1, 1, 1, 1, 1, 1, 1, 1, 1, 1, 0, 0, 1, 0, 0, 0, 1, 0, 0,\n",
              "       1, 1, 1, 1, 1, 0, 1, 1, 1, 1, 1, 0, 1, 1, 1, 0, 1, 1, 0, 0, 1, 1,\n",
              "       1, 1, 1, 1, 0, 1, 1, 1, 1, 1, 1, 1, 0, 1, 1, 1, 1, 1, 0, 1, 1, 0,\n",
              "       1, 1, 1, 1, 1, 1, 1, 1, 1, 1, 1, 1, 0, 1, 0, 0, 1, 0, 1, 1, 1, 1,\n",
              "       1, 0, 1, 1, 0, 1, 0, 1, 1, 0, 1, 0, 1, 1, 1, 1, 1, 1, 1, 1, 0, 0,\n",
              "       1, 1, 1, 1, 1, 1, 0, 1, 1, 1, 1, 1, 1, 1, 1, 1, 1, 0, 1, 1, 1, 1,\n",
              "       1, 1, 1, 0, 1, 0, 1, 1, 0, 1, 1, 1, 1, 1, 0, 0, 1, 0, 1, 0, 1, 1,\n",
              "       1, 1, 1, 0, 1, 1, 0, 1, 0, 1, 0, 0, 1, 1, 1, 0, 1, 1, 1, 1, 1, 1,\n",
              "       1, 1, 1, 1, 1, 0, 1, 0, 0, 1, 1, 1, 1, 1, 1, 1, 1, 1, 1, 1, 1, 1,\n",
              "       1, 1, 1, 1, 1, 1, 1, 1, 1, 1, 1, 1, 0, 0, 0, 0, 0, 0, 1])"
            ]
          },
          "metadata": {
            "tags": []
          },
          "execution_count": 8
        }
      ]
    },
    {
      "cell_type": "code",
      "metadata": {
        "id": "dy7tBHDf6K2u",
        "outputId": "6694a081-a54e-4d47-92a1-faa5f9df75cd",
        "colab": {
          "base_uri": "https://localhost:8080/",
          "height": 34
        }
      },
      "source": [
        "data.target_names"
      ],
      "execution_count": 9,
      "outputs": [
        {
          "output_type": "execute_result",
          "data": {
            "text/plain": [
              "array(['malignant', 'benign'], dtype='<U9')"
            ]
          },
          "metadata": {
            "tags": []
          },
          "execution_count": 9
        }
      ]
    },
    {
      "cell_type": "code",
      "metadata": {
        "id": "7xMyDDOf6Mtq",
        "outputId": "0f2df840-342e-4d78-8edf-7213a73d937f",
        "colab": {
          "base_uri": "https://localhost:8080/",
          "height": 34
        }
      },
      "source": [
        "data.target.shape"
      ],
      "execution_count": 10,
      "outputs": [
        {
          "output_type": "execute_result",
          "data": {
            "text/plain": [
              "(569,)"
            ]
          },
          "metadata": {
            "tags": []
          },
          "execution_count": 10
        }
      ]
    },
    {
      "cell_type": "code",
      "metadata": {
        "id": "EyT_5t5m6PGU",
        "outputId": "0c1b2e96-e444-4815-8cd9-42d5b211d52b",
        "colab": {
          "base_uri": "https://localhost:8080/",
          "height": 187
        }
      },
      "source": [
        "data.feature_names"
      ],
      "execution_count": 11,
      "outputs": [
        {
          "output_type": "execute_result",
          "data": {
            "text/plain": [
              "array(['mean radius', 'mean texture', 'mean perimeter', 'mean area',\n",
              "       'mean smoothness', 'mean compactness', 'mean concavity',\n",
              "       'mean concave points', 'mean symmetry', 'mean fractal dimension',\n",
              "       'radius error', 'texture error', 'perimeter error', 'area error',\n",
              "       'smoothness error', 'compactness error', 'concavity error',\n",
              "       'concave points error', 'symmetry error',\n",
              "       'fractal dimension error', 'worst radius', 'worst texture',\n",
              "       'worst perimeter', 'worst area', 'worst smoothness',\n",
              "       'worst compactness', 'worst concavity', 'worst concave points',\n",
              "       'worst symmetry', 'worst fractal dimension'], dtype='<U23')"
            ]
          },
          "metadata": {
            "tags": []
          },
          "execution_count": 11
        }
      ]
    },
    {
      "cell_type": "code",
      "metadata": {
        "id": "4dpdsE8c6SQL"
      },
      "source": [
        "from sklearn.model_selection import train_test_split\n",
        "X_train, X_test, y_train, y_test = train_test_split(data.data, data.target, test_size=0.33)\n",
        "N, D =X_train.shape"
      ],
      "execution_count": 12,
      "outputs": []
    },
    {
      "cell_type": "code",
      "metadata": {
        "id": "ehTi9Stw6jaj"
      },
      "source": [
        "from sklearn.preprocessing import StandardScaler\n",
        "scaler = StandardScaler()\n",
        "X_train = scaler.fit_transform(X_train)\n",
        "X_test = scaler.transform(X_test)"
      ],
      "execution_count": 13,
      "outputs": []
    },
    {
      "cell_type": "code",
      "metadata": {
        "id": "_ryX0ch36-OA",
        "outputId": "5cf90152-e69c-411a-dd5c-297593ef9834",
        "colab": {
          "base_uri": "https://localhost:8080/",
          "height": 1000
        }
      },
      "source": [
        "model = Sequential([\n",
        "        Input(shape=(D,)),\n",
        "        Dense(1, activation='sigmoid')\n",
        "])\n",
        "\n",
        "\n",
        "model.compile(optimizer = 'adam', loss='binary_crossentropy', metrics=['accuracy'])\n",
        "\n",
        "r = model.fit(X_train, y_train, validation_data=(X_test,y_test), epochs=100)"
      ],
      "execution_count": 14,
      "outputs": [
        {
          "output_type": "stream",
          "text": [
            "Epoch 1/100\n",
            "12/12 [==============================] - 0s 13ms/step - loss: 0.6010 - accuracy: 0.6614 - val_loss: 0.5083 - val_accuracy: 0.7766\n",
            "Epoch 2/100\n",
            "12/12 [==============================] - 0s 2ms/step - loss: 0.5354 - accuracy: 0.7454 - val_loss: 0.4488 - val_accuracy: 0.8191\n",
            "Epoch 3/100\n",
            "12/12 [==============================] - 0s 3ms/step - loss: 0.4813 - accuracy: 0.8110 - val_loss: 0.3985 - val_accuracy: 0.8777\n",
            "Epoch 4/100\n",
            "12/12 [==============================] - 0s 3ms/step - loss: 0.4363 - accuracy: 0.8714 - val_loss: 0.3572 - val_accuracy: 0.9096\n",
            "Epoch 5/100\n",
            "12/12 [==============================] - 0s 2ms/step - loss: 0.3992 - accuracy: 0.8871 - val_loss: 0.3234 - val_accuracy: 0.9362\n",
            "Epoch 6/100\n",
            "12/12 [==============================] - 0s 3ms/step - loss: 0.3694 - accuracy: 0.9108 - val_loss: 0.2950 - val_accuracy: 0.9468\n",
            "Epoch 7/100\n",
            "12/12 [==============================] - 0s 3ms/step - loss: 0.3434 - accuracy: 0.9344 - val_loss: 0.2722 - val_accuracy: 0.9521\n",
            "Epoch 8/100\n",
            "12/12 [==============================] - 0s 3ms/step - loss: 0.3230 - accuracy: 0.9370 - val_loss: 0.2524 - val_accuracy: 0.9521\n",
            "Epoch 9/100\n",
            "12/12 [==============================] - 0s 4ms/step - loss: 0.3054 - accuracy: 0.9449 - val_loss: 0.2354 - val_accuracy: 0.9574\n",
            "Epoch 10/100\n",
            "12/12 [==============================] - 0s 3ms/step - loss: 0.2902 - accuracy: 0.9475 - val_loss: 0.2208 - val_accuracy: 0.9734\n",
            "Epoch 11/100\n",
            "12/12 [==============================] - 0s 3ms/step - loss: 0.2772 - accuracy: 0.9475 - val_loss: 0.2081 - val_accuracy: 0.9787\n",
            "Epoch 12/100\n",
            "12/12 [==============================] - 0s 3ms/step - loss: 0.2662 - accuracy: 0.9501 - val_loss: 0.1968 - val_accuracy: 0.9787\n",
            "Epoch 13/100\n",
            "12/12 [==============================] - 0s 3ms/step - loss: 0.2559 - accuracy: 0.9528 - val_loss: 0.1872 - val_accuracy: 0.9787\n",
            "Epoch 14/100\n",
            "12/12 [==============================] - 0s 3ms/step - loss: 0.2472 - accuracy: 0.9528 - val_loss: 0.1784 - val_accuracy: 0.9840\n",
            "Epoch 15/100\n",
            "12/12 [==============================] - 0s 3ms/step - loss: 0.2392 - accuracy: 0.9528 - val_loss: 0.1706 - val_accuracy: 0.9840\n",
            "Epoch 16/100\n",
            "12/12 [==============================] - 0s 3ms/step - loss: 0.2319 - accuracy: 0.9528 - val_loss: 0.1636 - val_accuracy: 0.9840\n",
            "Epoch 17/100\n",
            "12/12 [==============================] - 0s 3ms/step - loss: 0.2254 - accuracy: 0.9528 - val_loss: 0.1572 - val_accuracy: 0.9840\n",
            "Epoch 18/100\n",
            "12/12 [==============================] - 0s 3ms/step - loss: 0.2192 - accuracy: 0.9554 - val_loss: 0.1516 - val_accuracy: 0.9840\n",
            "Epoch 19/100\n",
            "12/12 [==============================] - 0s 2ms/step - loss: 0.2137 - accuracy: 0.9554 - val_loss: 0.1462 - val_accuracy: 0.9840\n",
            "Epoch 20/100\n",
            "12/12 [==============================] - 0s 3ms/step - loss: 0.2084 - accuracy: 0.9554 - val_loss: 0.1413 - val_accuracy: 0.9840\n",
            "Epoch 21/100\n",
            "12/12 [==============================] - 0s 3ms/step - loss: 0.2036 - accuracy: 0.9554 - val_loss: 0.1368 - val_accuracy: 0.9894\n",
            "Epoch 22/100\n",
            "12/12 [==============================] - 0s 3ms/step - loss: 0.1991 - accuracy: 0.9554 - val_loss: 0.1324 - val_accuracy: 0.9894\n",
            "Epoch 23/100\n",
            "12/12 [==============================] - 0s 3ms/step - loss: 0.1949 - accuracy: 0.9554 - val_loss: 0.1286 - val_accuracy: 0.9894\n",
            "Epoch 24/100\n",
            "12/12 [==============================] - 0s 3ms/step - loss: 0.1908 - accuracy: 0.9580 - val_loss: 0.1250 - val_accuracy: 0.9894\n",
            "Epoch 25/100\n",
            "12/12 [==============================] - 0s 3ms/step - loss: 0.1870 - accuracy: 0.9580 - val_loss: 0.1216 - val_accuracy: 0.9894\n",
            "Epoch 26/100\n",
            "12/12 [==============================] - 0s 3ms/step - loss: 0.1835 - accuracy: 0.9606 - val_loss: 0.1184 - val_accuracy: 0.9894\n",
            "Epoch 27/100\n",
            "12/12 [==============================] - 0s 3ms/step - loss: 0.1802 - accuracy: 0.9606 - val_loss: 0.1155 - val_accuracy: 0.9894\n",
            "Epoch 28/100\n",
            "12/12 [==============================] - 0s 4ms/step - loss: 0.1769 - accuracy: 0.9606 - val_loss: 0.1127 - val_accuracy: 0.9894\n",
            "Epoch 29/100\n",
            "12/12 [==============================] - 0s 3ms/step - loss: 0.1739 - accuracy: 0.9606 - val_loss: 0.1100 - val_accuracy: 0.9894\n",
            "Epoch 30/100\n",
            "12/12 [==============================] - 0s 3ms/step - loss: 0.1711 - accuracy: 0.9606 - val_loss: 0.1074 - val_accuracy: 0.9894\n",
            "Epoch 31/100\n",
            "12/12 [==============================] - 0s 3ms/step - loss: 0.1684 - accuracy: 0.9580 - val_loss: 0.1052 - val_accuracy: 0.9894\n",
            "Epoch 32/100\n",
            "12/12 [==============================] - 0s 3ms/step - loss: 0.1657 - accuracy: 0.9580 - val_loss: 0.1029 - val_accuracy: 0.9947\n",
            "Epoch 33/100\n",
            "12/12 [==============================] - 0s 3ms/step - loss: 0.1634 - accuracy: 0.9633 - val_loss: 0.1007 - val_accuracy: 0.9947\n",
            "Epoch 34/100\n",
            "12/12 [==============================] - 0s 3ms/step - loss: 0.1610 - accuracy: 0.9633 - val_loss: 0.0986 - val_accuracy: 0.9947\n",
            "Epoch 35/100\n",
            "12/12 [==============================] - 0s 3ms/step - loss: 0.1587 - accuracy: 0.9633 - val_loss: 0.0967 - val_accuracy: 0.9947\n",
            "Epoch 36/100\n",
            "12/12 [==============================] - 0s 3ms/step - loss: 0.1566 - accuracy: 0.9633 - val_loss: 0.0950 - val_accuracy: 0.9947\n",
            "Epoch 37/100\n",
            "12/12 [==============================] - 0s 3ms/step - loss: 0.1545 - accuracy: 0.9659 - val_loss: 0.0932 - val_accuracy: 0.9947\n",
            "Epoch 38/100\n",
            "12/12 [==============================] - 0s 4ms/step - loss: 0.1525 - accuracy: 0.9659 - val_loss: 0.0915 - val_accuracy: 0.9947\n",
            "Epoch 39/100\n",
            "12/12 [==============================] - 0s 3ms/step - loss: 0.1506 - accuracy: 0.9659 - val_loss: 0.0900 - val_accuracy: 0.9947\n",
            "Epoch 40/100\n",
            "12/12 [==============================] - 0s 3ms/step - loss: 0.1489 - accuracy: 0.9659 - val_loss: 0.0885 - val_accuracy: 0.9947\n",
            "Epoch 41/100\n",
            "12/12 [==============================] - 0s 3ms/step - loss: 0.1471 - accuracy: 0.9659 - val_loss: 0.0870 - val_accuracy: 0.9947\n",
            "Epoch 42/100\n",
            "12/12 [==============================] - 0s 3ms/step - loss: 0.1455 - accuracy: 0.9659 - val_loss: 0.0856 - val_accuracy: 0.9947\n",
            "Epoch 43/100\n",
            "12/12 [==============================] - 0s 3ms/step - loss: 0.1438 - accuracy: 0.9659 - val_loss: 0.0843 - val_accuracy: 0.9947\n",
            "Epoch 44/100\n",
            "12/12 [==============================] - 0s 3ms/step - loss: 0.1423 - accuracy: 0.9659 - val_loss: 0.0830 - val_accuracy: 0.9947\n",
            "Epoch 45/100\n",
            "12/12 [==============================] - 0s 3ms/step - loss: 0.1408 - accuracy: 0.9659 - val_loss: 0.0817 - val_accuracy: 0.9947\n",
            "Epoch 46/100\n",
            "12/12 [==============================] - 0s 3ms/step - loss: 0.1395 - accuracy: 0.9659 - val_loss: 0.0805 - val_accuracy: 0.9947\n",
            "Epoch 47/100\n",
            "12/12 [==============================] - 0s 3ms/step - loss: 0.1380 - accuracy: 0.9659 - val_loss: 0.0794 - val_accuracy: 0.9947\n",
            "Epoch 48/100\n",
            "12/12 [==============================] - 0s 3ms/step - loss: 0.1367 - accuracy: 0.9685 - val_loss: 0.0783 - val_accuracy: 0.9947\n",
            "Epoch 49/100\n",
            "12/12 [==============================] - 0s 3ms/step - loss: 0.1354 - accuracy: 0.9685 - val_loss: 0.0773 - val_accuracy: 0.9947\n",
            "Epoch 50/100\n",
            "12/12 [==============================] - 0s 3ms/step - loss: 0.1342 - accuracy: 0.9685 - val_loss: 0.0763 - val_accuracy: 0.9894\n",
            "Epoch 51/100\n",
            "12/12 [==============================] - 0s 3ms/step - loss: 0.1330 - accuracy: 0.9685 - val_loss: 0.0752 - val_accuracy: 0.9894\n",
            "Epoch 52/100\n",
            "12/12 [==============================] - 0s 3ms/step - loss: 0.1318 - accuracy: 0.9685 - val_loss: 0.0743 - val_accuracy: 0.9894\n",
            "Epoch 53/100\n",
            "12/12 [==============================] - 0s 3ms/step - loss: 0.1307 - accuracy: 0.9685 - val_loss: 0.0734 - val_accuracy: 0.9894\n",
            "Epoch 54/100\n",
            "12/12 [==============================] - 0s 3ms/step - loss: 0.1296 - accuracy: 0.9711 - val_loss: 0.0725 - val_accuracy: 0.9894\n",
            "Epoch 55/100\n",
            "12/12 [==============================] - 0s 3ms/step - loss: 0.1285 - accuracy: 0.9738 - val_loss: 0.0717 - val_accuracy: 0.9894\n",
            "Epoch 56/100\n",
            "12/12 [==============================] - 0s 3ms/step - loss: 0.1275 - accuracy: 0.9738 - val_loss: 0.0709 - val_accuracy: 0.9894\n",
            "Epoch 57/100\n",
            "12/12 [==============================] - 0s 3ms/step - loss: 0.1266 - accuracy: 0.9738 - val_loss: 0.0700 - val_accuracy: 0.9894\n",
            "Epoch 58/100\n",
            "12/12 [==============================] - 0s 3ms/step - loss: 0.1256 - accuracy: 0.9738 - val_loss: 0.0692 - val_accuracy: 0.9894\n",
            "Epoch 59/100\n",
            "12/12 [==============================] - 0s 3ms/step - loss: 0.1247 - accuracy: 0.9738 - val_loss: 0.0685 - val_accuracy: 0.9894\n",
            "Epoch 60/100\n",
            "12/12 [==============================] - 0s 3ms/step - loss: 0.1238 - accuracy: 0.9738 - val_loss: 0.0677 - val_accuracy: 0.9894\n",
            "Epoch 61/100\n",
            "12/12 [==============================] - 0s 3ms/step - loss: 0.1229 - accuracy: 0.9738 - val_loss: 0.0670 - val_accuracy: 0.9894\n",
            "Epoch 62/100\n",
            "12/12 [==============================] - 0s 4ms/step - loss: 0.1220 - accuracy: 0.9738 - val_loss: 0.0664 - val_accuracy: 0.9894\n",
            "Epoch 63/100\n",
            "12/12 [==============================] - 0s 3ms/step - loss: 0.1212 - accuracy: 0.9738 - val_loss: 0.0657 - val_accuracy: 0.9894\n",
            "Epoch 64/100\n",
            "12/12 [==============================] - 0s 3ms/step - loss: 0.1204 - accuracy: 0.9738 - val_loss: 0.0651 - val_accuracy: 0.9894\n",
            "Epoch 65/100\n",
            "12/12 [==============================] - 0s 4ms/step - loss: 0.1196 - accuracy: 0.9764 - val_loss: 0.0645 - val_accuracy: 0.9894\n",
            "Epoch 66/100\n",
            "12/12 [==============================] - 0s 3ms/step - loss: 0.1189 - accuracy: 0.9764 - val_loss: 0.0638 - val_accuracy: 0.9894\n",
            "Epoch 67/100\n",
            "12/12 [==============================] - 0s 3ms/step - loss: 0.1181 - accuracy: 0.9764 - val_loss: 0.0632 - val_accuracy: 0.9894\n",
            "Epoch 68/100\n",
            "12/12 [==============================] - 0s 3ms/step - loss: 0.1174 - accuracy: 0.9764 - val_loss: 0.0626 - val_accuracy: 0.9894\n",
            "Epoch 69/100\n",
            "12/12 [==============================] - 0s 3ms/step - loss: 0.1167 - accuracy: 0.9764 - val_loss: 0.0621 - val_accuracy: 0.9894\n",
            "Epoch 70/100\n",
            "12/12 [==============================] - 0s 3ms/step - loss: 0.1160 - accuracy: 0.9764 - val_loss: 0.0615 - val_accuracy: 0.9894\n",
            "Epoch 71/100\n",
            "12/12 [==============================] - 0s 3ms/step - loss: 0.1153 - accuracy: 0.9764 - val_loss: 0.0610 - val_accuracy: 0.9894\n",
            "Epoch 72/100\n",
            "12/12 [==============================] - 0s 3ms/step - loss: 0.1147 - accuracy: 0.9764 - val_loss: 0.0605 - val_accuracy: 0.9894\n",
            "Epoch 73/100\n",
            "12/12 [==============================] - 0s 3ms/step - loss: 0.1141 - accuracy: 0.9764 - val_loss: 0.0600 - val_accuracy: 0.9894\n",
            "Epoch 74/100\n",
            "12/12 [==============================] - 0s 3ms/step - loss: 0.1134 - accuracy: 0.9764 - val_loss: 0.0595 - val_accuracy: 0.9894\n",
            "Epoch 75/100\n",
            "12/12 [==============================] - 0s 3ms/step - loss: 0.1128 - accuracy: 0.9764 - val_loss: 0.0590 - val_accuracy: 0.9894\n",
            "Epoch 76/100\n",
            "12/12 [==============================] - 0s 3ms/step - loss: 0.1122 - accuracy: 0.9764 - val_loss: 0.0586 - val_accuracy: 0.9894\n",
            "Epoch 77/100\n",
            "12/12 [==============================] - 0s 3ms/step - loss: 0.1116 - accuracy: 0.9764 - val_loss: 0.0581 - val_accuracy: 0.9894\n",
            "Epoch 78/100\n",
            "12/12 [==============================] - 0s 4ms/step - loss: 0.1111 - accuracy: 0.9764 - val_loss: 0.0576 - val_accuracy: 0.9894\n",
            "Epoch 79/100\n",
            "12/12 [==============================] - 0s 3ms/step - loss: 0.1105 - accuracy: 0.9764 - val_loss: 0.0572 - val_accuracy: 0.9894\n",
            "Epoch 80/100\n",
            "12/12 [==============================] - 0s 3ms/step - loss: 0.1100 - accuracy: 0.9764 - val_loss: 0.0568 - val_accuracy: 0.9894\n",
            "Epoch 81/100\n",
            "12/12 [==============================] - 0s 3ms/step - loss: 0.1095 - accuracy: 0.9764 - val_loss: 0.0563 - val_accuracy: 0.9894\n",
            "Epoch 82/100\n",
            "12/12 [==============================] - 0s 3ms/step - loss: 0.1089 - accuracy: 0.9790 - val_loss: 0.0559 - val_accuracy: 0.9894\n",
            "Epoch 83/100\n",
            "12/12 [==============================] - 0s 3ms/step - loss: 0.1084 - accuracy: 0.9790 - val_loss: 0.0555 - val_accuracy: 0.9894\n",
            "Epoch 84/100\n",
            "12/12 [==============================] - 0s 3ms/step - loss: 0.1079 - accuracy: 0.9790 - val_loss: 0.0551 - val_accuracy: 0.9894\n",
            "Epoch 85/100\n",
            "12/12 [==============================] - 0s 3ms/step - loss: 0.1074 - accuracy: 0.9790 - val_loss: 0.0547 - val_accuracy: 0.9894\n",
            "Epoch 86/100\n",
            "12/12 [==============================] - 0s 3ms/step - loss: 0.1070 - accuracy: 0.9790 - val_loss: 0.0544 - val_accuracy: 0.9894\n",
            "Epoch 87/100\n",
            "12/12 [==============================] - 0s 3ms/step - loss: 0.1065 - accuracy: 0.9790 - val_loss: 0.0541 - val_accuracy: 0.9894\n",
            "Epoch 88/100\n",
            "12/12 [==============================] - 0s 3ms/step - loss: 0.1060 - accuracy: 0.9790 - val_loss: 0.0537 - val_accuracy: 0.9894\n",
            "Epoch 89/100\n",
            "12/12 [==============================] - 0s 3ms/step - loss: 0.1056 - accuracy: 0.9790 - val_loss: 0.0533 - val_accuracy: 0.9894\n",
            "Epoch 90/100\n",
            "12/12 [==============================] - 0s 3ms/step - loss: 0.1052 - accuracy: 0.9790 - val_loss: 0.0529 - val_accuracy: 0.9894\n",
            "Epoch 91/100\n",
            "12/12 [==============================] - 0s 3ms/step - loss: 0.1047 - accuracy: 0.9790 - val_loss: 0.0526 - val_accuracy: 0.9894\n",
            "Epoch 92/100\n",
            "12/12 [==============================] - 0s 3ms/step - loss: 0.1043 - accuracy: 0.9790 - val_loss: 0.0522 - val_accuracy: 0.9894\n",
            "Epoch 93/100\n",
            "12/12 [==============================] - 0s 3ms/step - loss: 0.1039 - accuracy: 0.9790 - val_loss: 0.0519 - val_accuracy: 0.9894\n",
            "Epoch 94/100\n",
            "12/12 [==============================] - 0s 3ms/step - loss: 0.1035 - accuracy: 0.9790 - val_loss: 0.0516 - val_accuracy: 0.9894\n",
            "Epoch 95/100\n",
            "12/12 [==============================] - 0s 3ms/step - loss: 0.1031 - accuracy: 0.9790 - val_loss: 0.0513 - val_accuracy: 0.9894\n",
            "Epoch 96/100\n",
            "12/12 [==============================] - 0s 3ms/step - loss: 0.1027 - accuracy: 0.9790 - val_loss: 0.0510 - val_accuracy: 0.9894\n",
            "Epoch 97/100\n",
            "12/12 [==============================] - 0s 3ms/step - loss: 0.1024 - accuracy: 0.9790 - val_loss: 0.0506 - val_accuracy: 0.9894\n",
            "Epoch 98/100\n",
            "12/12 [==============================] - 0s 4ms/step - loss: 0.1019 - accuracy: 0.9790 - val_loss: 0.0504 - val_accuracy: 0.9894\n",
            "Epoch 99/100\n",
            "12/12 [==============================] - 0s 3ms/step - loss: 0.1016 - accuracy: 0.9816 - val_loss: 0.0501 - val_accuracy: 0.9894\n",
            "Epoch 100/100\n",
            "12/12 [==============================] - 0s 3ms/step - loss: 0.1013 - accuracy: 0.9816 - val_loss: 0.0498 - val_accuracy: 0.9894\n"
          ],
          "name": "stdout"
        }
      ]
    },
    {
      "cell_type": "code",
      "metadata": {
        "id": "CRKM1bP77sRT",
        "outputId": "061bb3c5-5a6e-4eea-e9be-e058b36ffb9b",
        "colab": {
          "base_uri": "https://localhost:8080/",
          "height": 85
        }
      },
      "source": [
        "print(\"Train Score:\", model.evaluate(X_train, y_train))\n",
        "print(\"Test Score:\", model.evaluate(X_test, y_test))"
      ],
      "execution_count": 15,
      "outputs": [
        {
          "output_type": "stream",
          "text": [
            "12/12 [==============================] - 0s 1ms/step - loss: 0.1010 - accuracy: 0.9816\n",
            "Train Score: [0.10100927203893661, 0.9816272854804993]\n",
            "6/6 [==============================] - 0s 2ms/step - loss: 0.0498 - accuracy: 0.9894\n",
            "Test Score: [0.049789249897003174, 0.9893617033958435]\n"
          ],
          "name": "stdout"
        }
      ]
    },
    {
      "cell_type": "code",
      "metadata": {
        "id": "Pf-364IG-awe",
        "outputId": "62a006d7-560b-489a-9bb2-6edbcdf697cd",
        "colab": {
          "base_uri": "https://localhost:8080/",
          "height": 282
        }
      },
      "source": [
        "import matplotlib.pyplot as plt\n",
        "plt.plot(r.history['loss'], label=\"loss\")\n",
        "plt.plot(r.history['val_loss'], label='val_loss')\n",
        "plt.legend()"
      ],
      "execution_count": 16,
      "outputs": [
        {
          "output_type": "execute_result",
          "data": {
            "text/plain": [
              "<matplotlib.legend.Legend at 0x7f679e909630>"
            ]
          },
          "metadata": {
            "tags": []
          },
          "execution_count": 16
        },
        {
          "output_type": "display_data",
          "data": {
            "image/png": "[encoded data removed]",
            "text/plain": [
              "<Figure size 432x288 with 1 Axes>"
            ]
          },
          "metadata": {
            "tags": [],
            "needs_background": "light"
          }
        }
      ]
    },
    {
      "cell_type": "code",
      "metadata": {
        "id": "XyFwJQDq-t4L",
        "outputId": "fd4567be-11d7-4906-a563-683598c9e443",
        "colab": {
          "base_uri": "https://localhost:8080/",
          "height": 282
        }
      },
      "source": [
        "plt.plot(r.history['accuracy'], label='acc')\n",
        "plt.plot(r.history['val_accuracy'], label='val_acc')\n",
        "plt.legend()"
      ],
      "execution_count": 17,
      "outputs": [
        {
          "output_type": "execute_result",
          "data": {
            "text/plain": [
              "<matplotlib.legend.Legend at 0x7f679e877828>"
            ]
          },
          "metadata": {
            "tags": []
          },
          "execution_count": 17
        },
        {
          "output_type": "display_data",
          "data": {
            "image/png": "[encoded data removed]",
            "text/plain": [
              "<Figure size 432x288 with 1 Axes>"
            ]
          },
          "metadata": {
            "tags": [],
            "needs_background": "light"
          }
        }
      ]
    },
    {
      "cell_type": "code",
      "metadata": {
        "id": "BINK59Wc_DGh",
        "outputId": "2b6edd7c-ea71-4844-feae-13fe6642ee7a",
        "colab": {
          "base_uri": "https://localhost:8080/",
          "height": 1000
        }
      },
      "source": [
        "P = model.predict(X_test)\n",
        "print(P)"
      ],
      "execution_count": 19,
      "outputs": [
        {
          "output_type": "stream",
          "text": [
            "[[9.96595144e-01]\n",
            " [9.39316928e-01]\n",
            " [9.63952303e-01]\n",
            " [6.96064889e-01]\n",
            " [9.63222921e-01]\n",
            " [9.98212814e-01]\n",
            " [9.98535514e-01]\n",
            " [1.19402495e-04]\n",
            " [9.94693995e-01]\n",
            " [4.53996956e-02]\n",
            " [3.19382250e-02]\n",
            " [3.95518363e-01]\n",
            " [2.97898054e-03]\n",
            " [9.99848366e-01]\n",
            " [2.22390890e-03]\n",
            " [9.63351607e-01]\n",
            " [9.99559879e-01]\n",
            " [9.97366011e-01]\n",
            " [9.99559283e-01]\n",
            " [6.14494085e-04]\n",
            " [4.81992960e-04]\n",
            " [9.93241370e-01]\n",
            " [9.63713288e-01]\n",
            " [1.30226523e-01]\n",
            " [8.10391009e-01]\n",
            " [9.71942186e-01]\n",
            " [9.37232733e-01]\n",
            " [2.72238970e-01]\n",
            " [3.82760167e-03]\n",
            " [9.99635577e-01]\n",
            " [9.99529004e-01]\n",
            " [9.96362031e-01]\n",
            " [1.95503235e-04]\n",
            " [6.48573314e-06]\n",
            " [9.84748781e-01]\n",
            " [9.83608127e-01]\n",
            " [9.98570144e-01]\n",
            " [9.84311700e-01]\n",
            " [8.95585358e-01]\n",
            " [2.53319740e-04]\n",
            " [9.74490345e-01]\n",
            " [7.88589896e-05]\n",
            " [9.92160499e-01]\n",
            " [2.11745501e-04]\n",
            " [9.70164299e-01]\n",
            " [9.94994283e-01]\n",
            " [9.93085444e-01]\n",
            " [9.96384680e-01]\n",
            " [9.91312385e-01]\n",
            " [8.17839503e-02]\n",
            " [9.98067141e-01]\n",
            " [9.99333858e-01]\n",
            " [9.93883491e-01]\n",
            " [9.35747147e-01]\n",
            " [1.67382360e-02]\n",
            " [9.95332420e-01]\n",
            " [9.99306262e-01]\n",
            " [9.99942303e-01]\n",
            " [9.64614630e-01]\n",
            " [2.11223960e-03]\n",
            " [9.99028802e-01]\n",
            " [8.08258176e-01]\n",
            " [4.90258127e-01]\n",
            " [9.99096155e-01]\n",
            " [9.98882830e-01]\n",
            " [3.45624812e-06]\n",
            " [9.88932133e-01]\n",
            " [9.35263634e-02]\n",
            " [9.27787900e-01]\n",
            " [3.23355198e-04]\n",
            " [2.12671985e-05]\n",
            " [5.94374512e-07]\n",
            " [8.17000866e-04]\n",
            " [9.96592999e-01]\n",
            " [2.23597884e-03]\n",
            " [3.14766169e-03]\n",
            " [9.93974805e-01]\n",
            " [9.41926122e-01]\n",
            " [9.91002083e-01]\n",
            " [9.98661160e-01]\n",
            " [2.87918238e-06]\n",
            " [1.79779530e-03]\n",
            " [9.91702437e-01]\n",
            " [1.94489956e-04]\n",
            " [7.10693419e-01]\n",
            " [9.94711995e-01]\n",
            " [9.98090744e-01]\n",
            " [9.95240927e-01]\n",
            " [9.94452715e-01]\n",
            " [9.73765850e-01]\n",
            " [9.98064339e-01]\n",
            " [1.10822916e-03]\n",
            " [6.63959980e-03]\n",
            " [9.96623933e-01]\n",
            " [9.85426545e-01]\n",
            " [9.90484715e-01]\n",
            " [9.66732264e-01]\n",
            " [9.98669684e-01]\n",
            " [3.99884582e-03]\n",
            " [9.82954979e-01]\n",
            " [9.99084175e-01]\n",
            " [5.57660580e-01]\n",
            " [2.01523304e-03]\n",
            " [3.24060619e-02]\n",
            " [9.96326566e-01]\n",
            " [9.78648841e-01]\n",
            " [9.93173003e-01]\n",
            " [9.64930236e-01]\n",
            " [9.86128449e-01]\n",
            " [9.97930765e-01]\n",
            " [9.95934248e-01]\n",
            " [9.99395967e-01]\n",
            " [1.79333696e-07]\n",
            " [1.02782476e-08]\n",
            " [3.53336334e-04]\n",
            " [9.99907374e-01]\n",
            " [5.89585434e-05]\n",
            " [9.88833904e-01]\n",
            " [8.95473659e-02]\n",
            " [8.13077569e-01]\n",
            " [2.93289721e-02]\n",
            " [2.40703635e-09]\n",
            " [9.94338036e-01]\n",
            " [9.95278656e-01]\n",
            " [4.17113304e-04]\n",
            " [9.90476072e-01]\n",
            " [5.29333949e-03]\n",
            " [9.87456918e-01]\n",
            " [1.12283230e-03]\n",
            " [2.53714543e-08]\n",
            " [9.98962164e-01]\n",
            " [9.99584436e-01]\n",
            " [9.99933481e-01]\n",
            " [6.81421638e-01]\n",
            " [8.72989767e-06]\n",
            " [3.25918198e-04]\n",
            " [9.98210371e-01]\n",
            " [9.90700841e-01]\n",
            " [9.64953780e-01]\n",
            " [2.97823280e-01]\n",
            " [1.59028172e-03]\n",
            " [9.78261232e-03]\n",
            " [9.91485953e-01]\n",
            " [6.51666939e-01]\n",
            " [9.57658291e-01]\n",
            " [9.98602867e-01]\n",
            " [9.63324130e-01]\n",
            " [9.47396696e-01]\n",
            " [3.95748138e-01]\n",
            " [6.58561885e-02]\n",
            " [9.93862510e-01]\n",
            " [9.91710365e-01]\n",
            " [9.54906404e-01]\n",
            " [9.89734650e-01]\n",
            " [9.98883367e-01]\n",
            " [5.94697985e-06]\n",
            " [4.06139493e-02]\n",
            " [9.70263302e-01]\n",
            " [9.34807062e-01]\n",
            " [9.87053871e-01]\n",
            " [9.46690202e-01]\n",
            " [1.86780095e-03]\n",
            " [3.49715948e-02]\n",
            " [9.45289969e-01]\n",
            " [9.97161627e-01]\n",
            " [2.53457963e-01]\n",
            " [9.98647809e-01]\n",
            " [5.05174100e-01]\n",
            " [1.73399785e-05]\n",
            " [9.91572022e-01]\n",
            " [3.32970917e-02]\n",
            " [9.88539338e-01]\n",
            " [1.55847264e-08]\n",
            " [9.99834836e-01]\n",
            " [8.28573757e-05]\n",
            " [1.35076352e-05]\n",
            " [2.42052257e-01]\n",
            " [1.15883704e-04]\n",
            " [9.39257028e-09]\n",
            " [6.68213367e-02]\n",
            " [9.90120173e-01]\n",
            " [1.58221066e-01]\n",
            " [1.08487075e-04]\n",
            " [3.40459366e-07]\n",
            " [5.34158647e-02]\n",
            " [9.90710378e-01]\n",
            " [8.69079304e-05]\n",
            " [9.96203899e-01]]\n"
          ],
          "name": "stdout"
        }
      ]
    },
    {
      "cell_type": "code",
      "metadata": {
        "id": "jNJwSOPu4d_n",
        "outputId": "9589b85e-8950-4ab2-968d-253fa77aa6b2",
        "colab": {
          "base_uri": "https://localhost:8080/",
          "height": 153
        }
      },
      "source": [
        "import numpy as np\n",
        "P = np.round(P).flatten()\n",
        "print(P)"
      ],
      "execution_count": 21,
      "outputs": [
        {
          "output_type": "stream",
          "text": [
            "[1. 1. 1. 1. 1. 1. 1. 0. 1. 0. 0. 0. 0. 1. 0. 1. 1. 1. 1. 0. 0. 1. 1. 0.\n",
            " 1. 1. 1. 0. 0. 1. 1. 1. 0. 0. 1. 1. 1. 1. 1. 0. 1. 0. 1. 0. 1. 1. 1. 1.\n",
            " 1. 0. 1. 1. 1. 1. 0. 1. 1. 1. 1. 0. 1. 1. 0. 1. 1. 0. 1. 0. 1. 0. 0. 0.\n",
            " 0. 1. 0. 0. 1. 1. 1. 1. 0. 0. 1. 0. 1. 1. 1. 1. 1. 1. 1. 0. 0. 1. 1. 1.\n",
            " 1. 1. 0. 1. 1. 1. 0. 0. 1. 1. 1. 1. 1. 1. 1. 1. 0. 0. 0. 1. 0. 1. 0. 1.\n",
            " 0. 0. 1. 1. 0. 1. 0. 1. 0. 0. 1. 1. 1. 1. 0. 0. 1. 1. 1. 0. 0. 0. 1. 1.\n",
            " 1. 1. 1. 1. 0. 0. 1. 1. 1. 1. 1. 0. 0. 1. 1. 1. 1. 0. 0. 1. 1. 0. 1. 1.\n",
            " 0. 1. 0. 1. 0. 1. 0. 0. 0. 0. 0. 0. 1. 0. 0. 0. 0. 1. 0. 1.]\n"
          ],
          "name": "stdout"
        }
      ]
    },
    {
      "cell_type": "code",
      "metadata": {
        "id": "uHlYNZsU4wAE",
        "outputId": "1da8c110-9175-46e7-eb24-9516654af0c3",
        "colab": {
          "base_uri": "https://localhost:8080/",
          "height": 68
        }
      },
      "source": [
        "print(\"Manually Calculated Accuracy:\", np.mean(P == y_test))\n",
        "print(\"Evaluate Output:\", model.evaluate(X_test, y_test))"
      ],
      "execution_count": 23,
      "outputs": [
        {
          "output_type": "stream",
          "text": [
            "Manually Calculated Accuracy: 0.9893617021276596\n",
            "6/6 [==============================] - 0s 2ms/step - loss: 0.0498 - accuracy: 0.9894\n",
            "Evaluate Output: [0.049789249897003174, 0.9893617033958435]\n"
          ],
          "name": "stdout"
        }
      ]
    },
    {
      "cell_type": "code",
      "metadata": {
        "id": "ft4Q8P4J5SJa"
      },
      "source": [
        "model.save('LinearClassification.h5')"
      ],
      "execution_count": 24,
      "outputs": []
    },
    {
      "cell_type": "code",
      "metadata": {
        "id": "5PjbY3Xp5ZPS"
      },
      "source": [
        ""
      ],
      "execution_count": null,
      "outputs": []
    }
  ]
}