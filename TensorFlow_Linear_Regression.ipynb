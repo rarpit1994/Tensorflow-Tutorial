{
  "nbformat": 4,
  "nbformat_minor": 0,
  "metadata": {
    "colab": {
      "name": "TensorFlow Linear Regression.ipynb",
      "provenance": []
    },
    "kernelspec": {
      "name": "python3",
      "display_name": "Python 3"
    }
  },
  "cells": [
    {
      "cell_type": "code",
      "metadata": {
        "id": "P64ROfIB_dlB"
      },
      "source": [
        "import tensorflow as tf\n",
        "import pandas as pd\n",
        "import numpy as np\n",
        "from tensorflow.keras.models import Sequential\n",
        "from tensorflow.keras.layers import Dense, Input\n",
        "import matplotlib.pyplot as plt"
      ],
      "execution_count": 8,
      "outputs": []
    },
    {
      "cell_type": "code",
      "metadata": {
        "id": "Uf-d5cpG_vUe",
        "outputId": "66288155-7fb4-4fcb-9bd0-6b076d12d4b1",
        "colab": {
          "base_uri": "https://localhost:8080/",
          "height": 204
        }
      },
      "source": [
        "!wget https://raw.githubusercontent.com/lazyprogrammer/machine_learning_examples/master/tf2.0/moore.csv"
      ],
      "execution_count": 2,
      "outputs": [
        {
          "output_type": "stream",
          "text": [
            "--2020-10-27 21:39:23--  https://raw.githubusercontent.com/lazyprogrammer/machine_learning_examples/master/tf2.0/moore.csv\n",
            "Resolving raw.githubusercontent.com (raw.githubusercontent.com)... 151.101.0.133, 151.101.64.133, 151.101.128.133, ...\n",
            "Connecting to raw.githubusercontent.com (raw.githubusercontent.com)|151.101.0.133|:443... connected.\n",
            "HTTP request sent, awaiting response... 200 OK\n",
            "Length: 2302 (2.2K) [text/plain]\n",
            "Saving to: ‘moore.csv’\n",
            "\n",
            "\rmoore.csv             0%[                    ]       0  --.-KB/s               \rmoore.csv           100%[===================>]   2.25K  --.-KB/s    in 0s      \n",
            "\n",
            "2020-10-27 21:39:23 (45.0 MB/s) - ‘moore.csv’ saved [2302/2302]\n",
            "\n"
          ],
          "name": "stdout"
        }
      ]
    },
    {
      "cell_type": "code",
      "metadata": {
        "id": "WkdS8KlbAFgU"
      },
      "source": [
        "data = pd.read_csv('moore.csv', header=None).values\n",
        "X = data[:,0].reshape(-1,1)\n",
        "Y = data[:,1]"
      ],
      "execution_count": 3,
      "outputs": []
    },
    {
      "cell_type": "code",
      "metadata": {
        "id": "hxjZbP01Adbc",
        "outputId": "3a6e5fcf-feac-4768-9f89-576b27b23d94",
        "colab": {
          "base_uri": "https://localhost:8080/",
          "height": 293
        }
      },
      "source": [
        "plt.scatter(X,Y)"
      ],
      "execution_count": 4,
      "outputs": [
        {
          "output_type": "execute_result",
          "data": {
            "text/plain": [
              "<matplotlib.collections.PathCollection at 0x7f405c56ba58>"
            ]
          },
          "metadata": {
            "tags": []
          },
          "execution_count": 4
        },
        {
          "output_type": "display_data",
          "data": {
            "image/png": "[encoded data removed]",
            "text/plain": [
              "<Figure size 432x288 with 1 Axes>"
            ]
          },
          "metadata": {
            "tags": [],
            "needs_background": "light"
          }
        }
      ]
    },
    {
      "cell_type": "code",
      "metadata": {
        "id": "pLX4JoOOAiIs",
        "outputId": "c8af5839-5ee5-4674-e23b-780f149958d9",
        "colab": {
          "base_uri": "https://localhost:8080/",
          "height": 265
        }
      },
      "source": [
        "Y = np.log(Y)\n",
        "plt.scatter(X,Y)\n",
        "X = X - X.mean()"
      ],
      "execution_count": 5,
      "outputs": [
        {
          "output_type": "display_data",
          "data": {
            "image/png": "[encoded data removed]",
            "text/plain": [
              "<Figure size 432x288 with 1 Axes>"
            ]
          },
          "metadata": {
            "tags": [],
            "needs_background": "light"
          }
        }
      ]
    },
    {
      "cell_type": "code",
      "metadata": {
        "id": "YlgKyOpLA6oj",
        "outputId": "b451f668-bfb2-4608-e7fc-f5b355b012f7",
        "colab": {
          "base_uri": "https://localhost:8080/",
          "height": 1000
        }
      },
      "source": [
        "model = Sequential([\n",
        "        Input(shape=(1,)),\n",
        "        Dense(1)\n",
        "])\n",
        "\n",
        "model.compile(optimizer = tf.keras.optimizers.SGD(0.001, 0.9), loss='mse')\n",
        "\n",
        "def schedule(epoch, lr):\n",
        "  if epoch >=50:\n",
        "    return 0.0001\n",
        "  return 0.001\n",
        "\n",
        "scheduler = tf.keras.callbacks.LearningRateScheduler(schedule)\n",
        "\n",
        "r = model.fit(X, Y, epochs = 200, callbacks=[scheduler])"
      ],
      "execution_count": 9,
      "outputs": [
        {
          "output_type": "stream",
          "text": [
            "Epoch 1/200\n",
            "6/6 [==============================] - 0s 1ms/step - loss: 342.5509\n",
            "Epoch 2/200\n",
            "6/6 [==============================] - 0s 1ms/step - loss: 318.6858\n",
            "Epoch 3/200\n",
            "6/6 [==============================] - 0s 1ms/step - loss: 385.8728\n",
            "Epoch 4/200\n",
            "6/6 [==============================] - 0s 1ms/step - loss: 376.3307\n",
            "Epoch 5/200\n",
            "6/6 [==============================] - 0s 1ms/step - loss: 272.7603\n",
            "Epoch 6/200\n",
            "6/6 [==============================] - 0s 1ms/step - loss: 180.9376\n",
            "Epoch 7/200\n",
            "6/6 [==============================] - 0s 1ms/step - loss: 252.2860\n",
            "Epoch 8/200\n",
            "6/6 [==============================] - 0s 1ms/step - loss: 147.8576\n",
            "Epoch 9/200\n",
            "6/6 [==============================] - 0s 1ms/step - loss: 92.1060\n",
            "Epoch 10/200\n",
            "6/6 [==============================] - 0s 1ms/step - loss: 77.7440\n",
            "Epoch 11/200\n",
            "6/6 [==============================] - 0s 1ms/step - loss: 40.2363\n",
            "Epoch 12/200\n",
            "6/6 [==============================] - 0s 1ms/step - loss: 26.8420\n",
            "Epoch 13/200\n",
            "6/6 [==============================] - 0s 2ms/step - loss: 17.0768\n",
            "Epoch 14/200\n",
            "6/6 [==============================] - 0s 2ms/step - loss: 19.7431\n",
            "Epoch 15/200\n",
            "6/6 [==============================] - 0s 1ms/step - loss: 15.8790\n",
            "Epoch 16/200\n",
            "6/6 [==============================] - 0s 2ms/step - loss: 14.3978\n",
            "Epoch 17/200\n",
            "6/6 [==============================] - 0s 2ms/step - loss: 8.6397\n",
            "Epoch 18/200\n",
            "6/6 [==============================] - 0s 1ms/step - loss: 7.0265\n",
            "Epoch 19/200\n",
            "6/6 [==============================] - 0s 1ms/step - loss: 5.5602\n",
            "Epoch 20/200\n",
            "6/6 [==============================] - 0s 1ms/step - loss: 3.8648\n",
            "Epoch 21/200\n",
            "6/6 [==============================] - 0s 1ms/step - loss: 2.2389\n",
            "Epoch 22/200\n",
            "6/6 [==============================] - 0s 2ms/step - loss: 2.1744\n",
            "Epoch 23/200\n",
            "6/6 [==============================] - 0s 2ms/step - loss: 1.5578\n",
            "Epoch 24/200\n",
            "6/6 [==============================] - 0s 2ms/step - loss: 1.4017\n",
            "Epoch 25/200\n",
            "6/6 [==============================] - 0s 1ms/step - loss: 1.2279\n",
            "Epoch 26/200\n",
            "6/6 [==============================] - 0s 2ms/step - loss: 1.1192\n",
            "Epoch 27/200\n",
            "6/6 [==============================] - 0s 1ms/step - loss: 1.1172\n",
            "Epoch 28/200\n",
            "6/6 [==============================] - 0s 1ms/step - loss: 1.0460\n",
            "Epoch 29/200\n",
            "6/6 [==============================] - 0s 2ms/step - loss: 1.2252\n",
            "Epoch 30/200\n",
            "6/6 [==============================] - 0s 1ms/step - loss: 1.0308\n",
            "Epoch 31/200\n",
            "6/6 [==============================] - 0s 1ms/step - loss: 1.1626\n",
            "Epoch 32/200\n",
            "6/6 [==============================] - 0s 1ms/step - loss: 1.0547\n",
            "Epoch 33/200\n",
            "6/6 [==============================] - 0s 2ms/step - loss: 0.9461\n",
            "Epoch 34/200\n",
            "6/6 [==============================] - 0s 2ms/step - loss: 0.9592\n",
            "Epoch 35/200\n",
            "6/6 [==============================] - 0s 1ms/step - loss: 0.9054\n",
            "Epoch 36/200\n",
            "6/6 [==============================] - 0s 2ms/step - loss: 1.0846\n",
            "Epoch 37/200\n",
            "6/6 [==============================] - 0s 1ms/step - loss: 0.9525\n",
            "Epoch 38/200\n",
            "6/6 [==============================] - 0s 1ms/step - loss: 0.9837\n",
            "Epoch 39/200\n",
            "6/6 [==============================] - 0s 1ms/step - loss: 1.0170\n",
            "Epoch 40/200\n",
            "6/6 [==============================] - 0s 1ms/step - loss: 0.9158\n",
            "Epoch 41/200\n",
            "6/6 [==============================] - 0s 2ms/step - loss: 0.9769\n",
            "Epoch 42/200\n",
            "6/6 [==============================] - 0s 2ms/step - loss: 0.8768\n",
            "Epoch 43/200\n",
            "6/6 [==============================] - 0s 1ms/step - loss: 1.0107\n",
            "Epoch 44/200\n",
            "6/6 [==============================] - 0s 1ms/step - loss: 0.9843\n",
            "Epoch 45/200\n",
            "6/6 [==============================] - 0s 1ms/step - loss: 0.9641\n",
            "Epoch 46/200\n",
            "6/6 [==============================] - 0s 1ms/step - loss: 1.0191\n",
            "Epoch 47/200\n",
            "6/6 [==============================] - 0s 2ms/step - loss: 0.9442\n",
            "Epoch 48/200\n",
            "6/6 [==============================] - 0s 1ms/step - loss: 1.8730\n",
            "Epoch 49/200\n",
            "6/6 [==============================] - 0s 2ms/step - loss: 1.2597\n",
            "Epoch 50/200\n",
            "6/6 [==============================] - 0s 2ms/step - loss: 1.1838\n",
            "Epoch 51/200\n",
            "6/6 [==============================] - 0s 2ms/step - loss: 1.1313\n",
            "Epoch 52/200\n",
            "6/6 [==============================] - 0s 3ms/step - loss: 1.5939\n",
            "Epoch 53/200\n",
            "6/6 [==============================] - 0s 2ms/step - loss: 0.9557\n",
            "Epoch 54/200\n",
            "6/6 [==============================] - 0s 1ms/step - loss: 0.9666\n",
            "Epoch 55/200\n",
            "6/6 [==============================] - 0s 1ms/step - loss: 0.9398\n",
            "Epoch 56/200\n",
            "6/6 [==============================] - 0s 1ms/step - loss: 0.8851\n",
            "Epoch 57/200\n",
            "6/6 [==============================] - 0s 1ms/step - loss: 0.9083\n",
            "Epoch 58/200\n",
            "6/6 [==============================] - 0s 2ms/step - loss: 0.8796\n",
            "Epoch 59/200\n",
            "6/6 [==============================] - 0s 1ms/step - loss: 0.9116\n",
            "Epoch 60/200\n",
            "6/6 [==============================] - 0s 1ms/step - loss: 0.9305\n",
            "Epoch 61/200\n",
            "6/6 [==============================] - 0s 1ms/step - loss: 0.8839\n",
            "Epoch 62/200\n",
            "6/6 [==============================] - 0s 2ms/step - loss: 0.8832\n",
            "Epoch 63/200\n",
            "6/6 [==============================] - 0s 2ms/step - loss: 0.8998\n",
            "Epoch 64/200\n",
            "6/6 [==============================] - 0s 2ms/step - loss: 0.8748\n",
            "Epoch 65/200\n",
            "6/6 [==============================] - 0s 2ms/step - loss: 0.8726\n",
            "Epoch 66/200\n",
            "6/6 [==============================] - 0s 2ms/step - loss: 0.8718\n",
            "Epoch 67/200\n",
            "6/6 [==============================] - 0s 1ms/step - loss: 0.8711\n",
            "Epoch 68/200\n",
            "6/6 [==============================] - 0s 1ms/step - loss: 0.8725\n",
            "Epoch 69/200\n",
            "6/6 [==============================] - 0s 1ms/step - loss: 0.8732\n",
            "Epoch 70/200\n",
            "6/6 [==============================] - 0s 2ms/step - loss: 0.8747\n",
            "Epoch 71/200\n",
            "6/6 [==============================] - 0s 1ms/step - loss: 0.8819\n",
            "Epoch 72/200\n",
            "6/6 [==============================] - 0s 2ms/step - loss: 0.8855\n",
            "Epoch 73/200\n",
            "6/6 [==============================] - 0s 2ms/step - loss: 0.8716\n",
            "Epoch 74/200\n",
            "6/6 [==============================] - 0s 2ms/step - loss: 0.8780\n",
            "Epoch 75/200\n",
            "6/6 [==============================] - 0s 2ms/step - loss: 0.8776\n",
            "Epoch 76/200\n",
            "6/6 [==============================] - 0s 1ms/step - loss: 0.8734\n",
            "Epoch 77/200\n",
            "6/6 [==============================] - 0s 1ms/step - loss: 0.8756\n",
            "Epoch 78/200\n",
            "6/6 [==============================] - 0s 2ms/step - loss: 0.8751\n",
            "Epoch 79/200\n",
            "6/6 [==============================] - 0s 1ms/step - loss: 0.8750\n",
            "Epoch 80/200\n",
            "6/6 [==============================] - 0s 2ms/step - loss: 0.8768\n",
            "Epoch 81/200\n",
            "6/6 [==============================] - 0s 1ms/step - loss: 0.8703\n",
            "Epoch 82/200\n",
            "6/6 [==============================] - 0s 1ms/step - loss: 0.8716\n",
            "Epoch 83/200\n",
            "6/6 [==============================] - 0s 2ms/step - loss: 0.8824\n",
            "Epoch 84/200\n",
            "6/6 [==============================] - 0s 1ms/step - loss: 0.8757\n",
            "Epoch 85/200\n",
            "6/6 [==============================] - 0s 1ms/step - loss: 0.8732\n",
            "Epoch 86/200\n",
            "6/6 [==============================] - 0s 2ms/step - loss: 0.8747\n",
            "Epoch 87/200\n",
            "6/6 [==============================] - 0s 2ms/step - loss: 0.8713\n",
            "Epoch 88/200\n",
            "6/6 [==============================] - 0s 2ms/step - loss: 0.8708\n",
            "Epoch 89/200\n",
            "6/6 [==============================] - 0s 1ms/step - loss: 0.8719\n",
            "Epoch 90/200\n",
            "6/6 [==============================] - 0s 1ms/step - loss: 0.8710\n",
            "Epoch 91/200\n",
            "6/6 [==============================] - 0s 2ms/step - loss: 0.8715\n",
            "Epoch 92/200\n",
            "6/6 [==============================] - 0s 2ms/step - loss: 0.8708\n",
            "Epoch 93/200\n",
            "6/6 [==============================] - 0s 1ms/step - loss: 0.8707\n",
            "Epoch 94/200\n",
            "6/6 [==============================] - 0s 2ms/step - loss: 0.8737\n",
            "Epoch 95/200\n",
            "6/6 [==============================] - 0s 2ms/step - loss: 0.8725\n",
            "Epoch 96/200\n",
            "6/6 [==============================] - 0s 2ms/step - loss: 0.9092\n",
            "Epoch 97/200\n",
            "6/6 [==============================] - 0s 2ms/step - loss: 0.9004\n",
            "Epoch 98/200\n",
            "6/6 [==============================] - 0s 2ms/step - loss: 0.8740\n",
            "Epoch 99/200\n",
            "6/6 [==============================] - 0s 2ms/step - loss: 0.8974\n",
            "Epoch 100/200\n",
            "6/6 [==============================] - 0s 2ms/step - loss: 0.8883\n",
            "Epoch 101/200\n",
            "6/6 [==============================] - 0s 1ms/step - loss: 0.8711\n",
            "Epoch 102/200\n",
            "6/6 [==============================] - 0s 1ms/step - loss: 0.8739\n",
            "Epoch 103/200\n",
            "6/6 [==============================] - 0s 2ms/step - loss: 0.8706\n",
            "Epoch 104/200\n",
            "6/6 [==============================] - 0s 1ms/step - loss: 0.8853\n",
            "Epoch 105/200\n",
            "6/6 [==============================] - 0s 2ms/step - loss: 0.8930\n",
            "Epoch 106/200\n",
            "6/6 [==============================] - 0s 2ms/step - loss: 0.8771\n",
            "Epoch 107/200\n",
            "6/6 [==============================] - 0s 2ms/step - loss: 0.8960\n",
            "Epoch 108/200\n",
            "6/6 [==============================] - 0s 2ms/step - loss: 0.8785\n",
            "Epoch 109/200\n",
            "6/6 [==============================] - 0s 2ms/step - loss: 0.8790\n",
            "Epoch 110/200\n",
            "6/6 [==============================] - 0s 1ms/step - loss: 0.8759\n",
            "Epoch 111/200\n",
            "6/6 [==============================] - 0s 3ms/step - loss: 0.8709\n",
            "Epoch 112/200\n",
            "6/6 [==============================] - 0s 2ms/step - loss: 0.8714\n",
            "Epoch 113/200\n",
            "6/6 [==============================] - 0s 2ms/step - loss: 0.8712\n",
            "Epoch 114/200\n",
            "6/6 [==============================] - 0s 2ms/step - loss: 0.8763\n",
            "Epoch 115/200\n",
            "6/6 [==============================] - 0s 2ms/step - loss: 0.9132\n",
            "Epoch 116/200\n",
            "6/6 [==============================] - 0s 2ms/step - loss: 0.8780\n",
            "Epoch 117/200\n",
            "6/6 [==============================] - 0s 2ms/step - loss: 0.8730\n",
            "Epoch 118/200\n",
            "6/6 [==============================] - 0s 1ms/step - loss: 0.9349\n",
            "Epoch 119/200\n",
            "6/6 [==============================] - 0s 2ms/step - loss: 0.8946\n",
            "Epoch 120/200\n",
            "6/6 [==============================] - 0s 1ms/step - loss: 0.8702\n",
            "Epoch 121/200\n",
            "6/6 [==============================] - 0s 1ms/step - loss: 0.8756\n",
            "Epoch 122/200\n",
            "6/6 [==============================] - 0s 2ms/step - loss: 0.8754\n",
            "Epoch 123/200\n",
            "6/6 [==============================] - 0s 2ms/step - loss: 0.8673\n",
            "Epoch 124/200\n",
            "6/6 [==============================] - 0s 2ms/step - loss: 0.8947\n",
            "Epoch 125/200\n",
            "6/6 [==============================] - 0s 2ms/step - loss: 0.8779\n",
            "Epoch 126/200\n",
            "6/6 [==============================] - 0s 2ms/step - loss: 0.8754\n",
            "Epoch 127/200\n",
            "6/6 [==============================] - 0s 2ms/step - loss: 0.8842\n",
            "Epoch 128/200\n",
            "6/6 [==============================] - 0s 2ms/step - loss: 0.8702\n",
            "Epoch 129/200\n",
            "6/6 [==============================] - 0s 2ms/step - loss: 0.8743\n",
            "Epoch 130/200\n",
            "6/6 [==============================] - 0s 2ms/step - loss: 0.8734\n",
            "Epoch 131/200\n",
            "6/6 [==============================] - 0s 2ms/step - loss: 0.8738\n",
            "Epoch 132/200\n",
            "6/6 [==============================] - 0s 2ms/step - loss: 0.8704\n",
            "Epoch 133/200\n",
            "6/6 [==============================] - 0s 2ms/step - loss: 0.8774\n",
            "Epoch 134/200\n",
            "6/6 [==============================] - 0s 2ms/step - loss: 0.8712\n",
            "Epoch 135/200\n",
            "6/6 [==============================] - 0s 2ms/step - loss: 0.8702\n",
            "Epoch 136/200\n",
            "6/6 [==============================] - 0s 2ms/step - loss: 0.8764\n",
            "Epoch 137/200\n",
            "6/6 [==============================] - 0s 2ms/step - loss: 0.8734\n",
            "Epoch 138/200\n",
            "6/6 [==============================] - 0s 2ms/step - loss: 0.8716\n",
            "Epoch 139/200\n",
            "6/6 [==============================] - 0s 1ms/step - loss: 0.8783\n",
            "Epoch 140/200\n",
            "6/6 [==============================] - 0s 2ms/step - loss: 0.8707\n",
            "Epoch 141/200\n",
            "6/6 [==============================] - 0s 2ms/step - loss: 0.8767\n",
            "Epoch 142/200\n",
            "6/6 [==============================] - 0s 2ms/step - loss: 0.8750\n",
            "Epoch 143/200\n",
            "6/6 [==============================] - 0s 2ms/step - loss: 0.8702\n",
            "Epoch 144/200\n",
            "6/6 [==============================] - 0s 2ms/step - loss: 0.8774\n",
            "Epoch 145/200\n",
            "6/6 [==============================] - 0s 2ms/step - loss: 0.8724\n",
            "Epoch 146/200\n",
            "6/6 [==============================] - 0s 3ms/step - loss: 0.8761\n",
            "Epoch 147/200\n",
            "6/6 [==============================] - 0s 3ms/step - loss: 0.8866\n",
            "Epoch 148/200\n",
            "6/6 [==============================] - 0s 2ms/step - loss: 0.8720\n",
            "Epoch 149/200\n",
            "6/6 [==============================] - 0s 3ms/step - loss: 0.8759\n",
            "Epoch 150/200\n",
            "6/6 [==============================] - 0s 2ms/step - loss: 0.8739\n",
            "Epoch 151/200\n",
            "6/6 [==============================] - 0s 2ms/step - loss: 0.8735\n",
            "Epoch 152/200\n",
            "6/6 [==============================] - 0s 2ms/step - loss: 0.8734\n",
            "Epoch 153/200\n",
            "6/6 [==============================] - 0s 2ms/step - loss: 0.8731\n",
            "Epoch 154/200\n",
            "6/6 [==============================] - 0s 2ms/step - loss: 0.8706\n",
            "Epoch 155/200\n",
            "6/6 [==============================] - 0s 3ms/step - loss: 0.8723\n",
            "Epoch 156/200\n",
            "6/6 [==============================] - 0s 2ms/step - loss: 0.8718\n",
            "Epoch 157/200\n",
            "6/6 [==============================] - 0s 2ms/step - loss: 0.8721\n",
            "Epoch 158/200\n",
            "6/6 [==============================] - 0s 2ms/step - loss: 0.8754\n",
            "Epoch 159/200\n",
            "6/6 [==============================] - 0s 2ms/step - loss: 0.8739\n",
            "Epoch 160/200\n",
            "6/6 [==============================] - 0s 2ms/step - loss: 0.8754\n",
            "Epoch 161/200\n",
            "6/6 [==============================] - 0s 2ms/step - loss: 0.8727\n",
            "Epoch 162/200\n",
            "6/6 [==============================] - 0s 2ms/step - loss: 0.8710\n",
            "Epoch 163/200\n",
            "6/6 [==============================] - 0s 2ms/step - loss: 0.8725\n",
            "Epoch 164/200\n",
            "6/6 [==============================] - 0s 2ms/step - loss: 0.8704\n",
            "Epoch 165/200\n",
            "6/6 [==============================] - 0s 2ms/step - loss: 0.8713\n",
            "Epoch 166/200\n",
            "6/6 [==============================] - 0s 2ms/step - loss: 0.8727\n",
            "Epoch 167/200\n",
            "6/6 [==============================] - 0s 3ms/step - loss: 0.8762\n",
            "Epoch 168/200\n",
            "6/6 [==============================] - 0s 2ms/step - loss: 0.8746\n",
            "Epoch 169/200\n",
            "6/6 [==============================] - 0s 2ms/step - loss: 0.8725\n",
            "Epoch 170/200\n",
            "6/6 [==============================] - 0s 1ms/step - loss: 0.8714\n",
            "Epoch 171/200\n",
            "6/6 [==============================] - 0s 2ms/step - loss: 0.8729\n",
            "Epoch 172/200\n",
            "6/6 [==============================] - 0s 2ms/step - loss: 0.8726\n",
            "Epoch 173/200\n",
            "6/6 [==============================] - 0s 1ms/step - loss: 0.8719\n",
            "Epoch 174/200\n",
            "6/6 [==============================] - 0s 2ms/step - loss: 0.8712\n",
            "Epoch 175/200\n",
            "6/6 [==============================] - 0s 1ms/step - loss: 0.8776\n",
            "Epoch 176/200\n",
            "6/6 [==============================] - 0s 2ms/step - loss: 0.8772\n",
            "Epoch 177/200\n",
            "6/6 [==============================] - 0s 3ms/step - loss: 0.8704\n",
            "Epoch 178/200\n",
            "6/6 [==============================] - 0s 2ms/step - loss: 0.8793\n",
            "Epoch 179/200\n",
            "6/6 [==============================] - 0s 2ms/step - loss: 0.8773\n",
            "Epoch 180/200\n",
            "6/6 [==============================] - 0s 3ms/step - loss: 0.9031\n",
            "Epoch 181/200\n",
            "6/6 [==============================] - 0s 2ms/step - loss: 0.8982\n",
            "Epoch 182/200\n",
            "6/6 [==============================] - 0s 2ms/step - loss: 0.8701\n",
            "Epoch 183/200\n",
            "6/6 [==============================] - 0s 2ms/step - loss: 0.8731\n",
            "Epoch 184/200\n",
            "6/6 [==============================] - 0s 2ms/step - loss: 0.8745\n",
            "Epoch 185/200\n",
            "6/6 [==============================] - 0s 2ms/step - loss: 0.8958\n",
            "Epoch 186/200\n",
            "6/6 [==============================] - 0s 2ms/step - loss: 0.9015\n",
            "Epoch 187/200\n",
            "6/6 [==============================] - 0s 2ms/step - loss: 0.8948\n",
            "Epoch 188/200\n",
            "6/6 [==============================] - 0s 2ms/step - loss: 0.9026\n",
            "Epoch 189/200\n",
            "6/6 [==============================] - 0s 1ms/step - loss: 0.8871\n",
            "Epoch 190/200\n",
            "6/6 [==============================] - 0s 2ms/step - loss: 0.8710\n",
            "Epoch 191/200\n",
            "6/6 [==============================] - 0s 1ms/step - loss: 0.8712\n",
            "Epoch 192/200\n",
            "6/6 [==============================] - 0s 2ms/step - loss: 0.8719\n",
            "Epoch 193/200\n",
            "6/6 [==============================] - 0s 2ms/step - loss: 0.8934\n",
            "Epoch 194/200\n",
            "6/6 [==============================] - 0s 2ms/step - loss: 0.8951\n",
            "Epoch 195/200\n",
            "6/6 [==============================] - 0s 2ms/step - loss: 0.8733\n",
            "Epoch 196/200\n",
            "6/6 [==============================] - 0s 1ms/step - loss: 0.8704\n",
            "Epoch 197/200\n",
            "6/6 [==============================] - 0s 1ms/step - loss: 0.8714\n",
            "Epoch 198/200\n",
            "6/6 [==============================] - 0s 2ms/step - loss: 0.8721\n",
            "Epoch 199/200\n",
            "6/6 [==============================] - 0s 1ms/step - loss: 0.8714\n",
            "Epoch 200/200\n",
            "6/6 [==============================] - 0s 2ms/step - loss: 0.8722\n"
          ],
          "name": "stdout"
        }
      ]
    },
    {
      "cell_type": "code",
      "metadata": {
        "id": "AKUqVRhcCWHX",
        "outputId": "03de4d4f-bd15-4bce-96db-ea6679227840",
        "colab": {
          "base_uri": "https://localhost:8080/",
          "height": 284
        }
      },
      "source": [
        "plt.plot(r.history['loss'], label='loss')"
      ],
      "execution_count": 10,
      "outputs": [
        {
          "output_type": "execute_result",
          "data": {
            "text/plain": [
              "[<matplotlib.lines.Line2D at 0x7f40526a1fd0>]"
            ]
          },
          "metadata": {
            "tags": []
          },
          "execution_count": 10
        },
        {
          "output_type": "display_data",
          "data": {
            "image/png": "[encoded data removed]",
            "text/plain": [
              "<Figure size 432x288 with 1 Axes>"
            ]
          },
          "metadata": {
            "tags": [],
            "needs_background": "light"
          }
        }
      ]
    },
    {
      "cell_type": "code",
      "metadata": {
        "id": "JeCR2uQECcd0",
        "outputId": "4c719aa3-3af2-40f3-ff62-d1e4521e3d7b",
        "colab": {
          "base_uri": "https://localhost:8080/",
          "height": 51
        }
      },
      "source": [
        "print(model.layers)\n",
        "print(model.layers[0].get_weights())"
      ],
      "execution_count": 12,
      "outputs": [
        {
          "output_type": "stream",
          "text": [
            "[<tensorflow.python.keras.layers.core.Dense object at 0x7f405b5a8da0>]\n",
            "[array([[0.34078893]], dtype=float32), array([17.754078], dtype=float32)]\n"
          ],
          "name": "stdout"
        }
      ]
    },
    {
      "cell_type": "code",
      "metadata": {
        "id": "4Azbu8d5CfDH"
      },
      "source": [
        "a = model.layers[0].get_weights()[0][0,0]"
      ],
      "execution_count": 13,
      "outputs": []
    },
    {
      "cell_type": "code",
      "metadata": {
        "id": "y_c5scb3Czep",
        "outputId": "321f0a5a-115e-4e51-e0dc-62a17efe7df3",
        "colab": {
          "base_uri": "https://localhost:8080/",
          "height": 34
        }
      },
      "source": [
        ""
      ],
      "execution_count": 14,
      "outputs": [
        {
          "output_type": "execute_result",
          "data": {
            "text/plain": [
              "0.34078893"
            ]
          },
          "metadata": {
            "tags": []
          },
          "execution_count": 14
        }
      ]
    },
    {
      "cell_type": "code",
      "metadata": {
        "id": "5y7NGu57DWgn"
      },
      "source": [
        ""
      ],
      "execution_count": null,
      "outputs": []
    }
  ]
}